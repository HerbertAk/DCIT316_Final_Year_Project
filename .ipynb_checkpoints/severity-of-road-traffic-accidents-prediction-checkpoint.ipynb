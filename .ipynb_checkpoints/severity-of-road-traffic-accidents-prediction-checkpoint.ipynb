{
 "cells": [
  {
   "cell_type": "markdown",
   "id": "16ce4e4a",
   "metadata": {
    "papermill": {
     "duration": 0.024422,
     "end_time": "2023-07-29T18:16:22.966228",
     "exception": false,
     "start_time": "2023-07-29T18:16:22.941806",
     "status": "completed"
    },
    "tags": []
   },
   "source": [
    "**Importing necessary libraries**"
   ]
  },
  {
   "cell_type": "code",
   "execution_count": 1,
   "id": "a40ce0f9",
   "metadata": {
    "execution": {
     "iopub.execute_input": "2023-07-29T18:16:23.007456Z",
     "iopub.status.busy": "2023-07-29T18:16:23.006501Z",
     "iopub.status.idle": "2023-07-29T18:16:23.021767Z",
     "shell.execute_reply": "2023-07-29T18:16:23.020064Z"
    },
    "papermill": {
     "duration": 0.03809,
     "end_time": "2023-07-29T18:16:23.024396",
     "exception": false,
     "start_time": "2023-07-29T18:16:22.986306",
     "status": "completed"
    },
    "tags": []
   },
   "outputs": [],
   "source": [
    "import pandas as pd\n",
    "import numpy as np"
   ]
  },
  {
   "cell_type": "markdown",
   "id": "023970aa",
   "metadata": {
    "papermill": {
     "duration": 0.018301,
     "end_time": "2023-07-29T18:16:23.061831",
     "exception": false,
     "start_time": "2023-07-29T18:16:23.043530",
     "status": "completed"
    },
    "tags": []
   },
   "source": [
    "**Loading the dataset**"
   ]
  },
  {
   "cell_type": "code",
   "execution_count": 2,
   "id": "7fa5fa0d",
   "metadata": {
    "execution": {
     "iopub.execute_input": "2023-07-29T18:16:23.100112Z",
     "iopub.status.busy": "2023-07-29T18:16:23.099727Z",
     "iopub.status.idle": "2023-07-29T18:16:23.379791Z",
     "shell.execute_reply": "2023-07-29T18:16:23.378958Z"
    },
    "papermill": {
     "duration": 0.30205,
     "end_time": "2023-07-29T18:16:23.382279",
     "exception": false,
     "start_time": "2023-07-29T18:16:23.080229",
     "status": "completed"
    },
    "tags": []
   },
   "outputs": [],
   "source": [
    "casualty_df = pd.read_csv('dft-road-casualty-statistics-casualty-provisional-mid-year-unvalidated-2022 (1).csv')"
   ]
  },
  {
   "cell_type": "markdown",
   "id": "d0809b41",
   "metadata": {
    "papermill": {
     "duration": 0.018391,
     "end_time": "2023-07-29T18:16:23.419531",
     "exception": false,
     "start_time": "2023-07-29T18:16:23.401140",
     "status": "completed"
    },
    "tags": []
   },
   "source": [
    "**Checking the first few rows of the dataset**"
   ]
  },
  {
   "cell_type": "code",
   "execution_count": 3,
   "id": "4610a636",
   "metadata": {
    "execution": {
     "iopub.execute_input": "2023-07-29T18:16:23.458841Z",
     "iopub.status.busy": "2023-07-29T18:16:23.457920Z",
     "iopub.status.idle": "2023-07-29T18:16:23.486038Z",
     "shell.execute_reply": "2023-07-29T18:16:23.484948Z"
    },
    "papermill": {
     "duration": 0.05044,
     "end_time": "2023-07-29T18:16:23.488509",
     "exception": false,
     "start_time": "2023-07-29T18:16:23.438069",
     "status": "completed"
    },
    "tags": []
   },
   "outputs": [
    {
     "data": {
      "text/html": [
       "<div>\n",
       "<style scoped>\n",
       "    .dataframe tbody tr th:only-of-type {\n",
       "        vertical-align: middle;\n",
       "    }\n",
       "\n",
       "    .dataframe tbody tr th {\n",
       "        vertical-align: top;\n",
       "    }\n",
       "\n",
       "    .dataframe thead th {\n",
       "        text-align: right;\n",
       "    }\n",
       "</style>\n",
       "<table border=\"1\" class=\"dataframe\">\n",
       "  <thead>\n",
       "    <tr style=\"text-align: right;\">\n",
       "      <th></th>\n",
       "      <th>status</th>\n",
       "      <th>accident_index</th>\n",
       "      <th>accident_year</th>\n",
       "      <th>accident_reference</th>\n",
       "      <th>vehicle_reference</th>\n",
       "      <th>casualty_reference</th>\n",
       "      <th>casualty_class</th>\n",
       "      <th>sex_of_casualty</th>\n",
       "      <th>age_of_casualty</th>\n",
       "      <th>age_band_of_casualty</th>\n",
       "      <th>casualty_severity</th>\n",
       "      <th>pedestrian_location</th>\n",
       "      <th>pedestrian_movement</th>\n",
       "      <th>car_passenger</th>\n",
       "      <th>bus_or_coach_passenger</th>\n",
       "      <th>pedestrian_road_maintenance_worker</th>\n",
       "      <th>casualty_type</th>\n",
       "      <th>casualty_home_area_type</th>\n",
       "      <th>casualty_imd_decile</th>\n",
       "      <th>lsoa_of_casualty</th>\n",
       "    </tr>\n",
       "  </thead>\n",
       "  <tbody>\n",
       "    <tr>\n",
       "      <th>0</th>\n",
       "      <td>Unvalidated</td>\n",
       "      <td>2022070151244</td>\n",
       "      <td>2022</td>\n",
       "      <td>070151244</td>\n",
       "      <td>2</td>\n",
       "      <td>1</td>\n",
       "      <td>1</td>\n",
       "      <td>2</td>\n",
       "      <td>46</td>\n",
       "      <td>8</td>\n",
       "      <td>3</td>\n",
       "      <td>0</td>\n",
       "      <td>0</td>\n",
       "      <td>0</td>\n",
       "      <td>0</td>\n",
       "      <td>0</td>\n",
       "      <td>9</td>\n",
       "      <td>1</td>\n",
       "      <td>9</td>\n",
       "      <td>E01033378</td>\n",
       "    </tr>\n",
       "    <tr>\n",
       "      <th>1</th>\n",
       "      <td>Unvalidated</td>\n",
       "      <td>2022070152668</td>\n",
       "      <td>2022</td>\n",
       "      <td>070152668</td>\n",
       "      <td>1</td>\n",
       "      <td>1</td>\n",
       "      <td>1</td>\n",
       "      <td>1</td>\n",
       "      <td>30</td>\n",
       "      <td>6</td>\n",
       "      <td>3</td>\n",
       "      <td>0</td>\n",
       "      <td>0</td>\n",
       "      <td>0</td>\n",
       "      <td>0</td>\n",
       "      <td>0</td>\n",
       "      <td>9</td>\n",
       "      <td>1</td>\n",
       "      <td>2</td>\n",
       "      <td>E01018551</td>\n",
       "    </tr>\n",
       "    <tr>\n",
       "      <th>2</th>\n",
       "      <td>Unvalidated</td>\n",
       "      <td>2022070154696</td>\n",
       "      <td>2022</td>\n",
       "      <td>070154696</td>\n",
       "      <td>1</td>\n",
       "      <td>1</td>\n",
       "      <td>1</td>\n",
       "      <td>2</td>\n",
       "      <td>58</td>\n",
       "      <td>9</td>\n",
       "      <td>3</td>\n",
       "      <td>0</td>\n",
       "      <td>0</td>\n",
       "      <td>0</td>\n",
       "      <td>0</td>\n",
       "      <td>0</td>\n",
       "      <td>9</td>\n",
       "      <td>1</td>\n",
       "      <td>10</td>\n",
       "      <td>E01006134</td>\n",
       "    </tr>\n",
       "    <tr>\n",
       "      <th>3</th>\n",
       "      <td>Unvalidated</td>\n",
       "      <td>2022070154696</td>\n",
       "      <td>2022</td>\n",
       "      <td>070154696</td>\n",
       "      <td>2</td>\n",
       "      <td>3</td>\n",
       "      <td>1</td>\n",
       "      <td>2</td>\n",
       "      <td>78</td>\n",
       "      <td>11</td>\n",
       "      <td>3</td>\n",
       "      <td>0</td>\n",
       "      <td>0</td>\n",
       "      <td>0</td>\n",
       "      <td>0</td>\n",
       "      <td>0</td>\n",
       "      <td>9</td>\n",
       "      <td>2</td>\n",
       "      <td>10</td>\n",
       "      <td>E01018724</td>\n",
       "    </tr>\n",
       "    <tr>\n",
       "      <th>4</th>\n",
       "      <td>Unvalidated</td>\n",
       "      <td>2022070154696</td>\n",
       "      <td>2022</td>\n",
       "      <td>070154696</td>\n",
       "      <td>3</td>\n",
       "      <td>2</td>\n",
       "      <td>1</td>\n",
       "      <td>1</td>\n",
       "      <td>63</td>\n",
       "      <td>9</td>\n",
       "      <td>3</td>\n",
       "      <td>0</td>\n",
       "      <td>0</td>\n",
       "      <td>0</td>\n",
       "      <td>0</td>\n",
       "      <td>0</td>\n",
       "      <td>9</td>\n",
       "      <td>3</td>\n",
       "      <td>7</td>\n",
       "      <td>W01000578</td>\n",
       "    </tr>\n",
       "  </tbody>\n",
       "</table>\n",
       "</div>"
      ],
      "text/plain": [
       "        status accident_index  accident_year accident_reference  \\\n",
       "0  Unvalidated  2022070151244           2022          070151244   \n",
       "1  Unvalidated  2022070152668           2022          070152668   \n",
       "2  Unvalidated  2022070154696           2022          070154696   \n",
       "3  Unvalidated  2022070154696           2022          070154696   \n",
       "4  Unvalidated  2022070154696           2022          070154696   \n",
       "\n",
       "   vehicle_reference  casualty_reference  casualty_class  sex_of_casualty  \\\n",
       "0                  2                   1               1                2   \n",
       "1                  1                   1               1                1   \n",
       "2                  1                   1               1                2   \n",
       "3                  2                   3               1                2   \n",
       "4                  3                   2               1                1   \n",
       "\n",
       "   age_of_casualty  age_band_of_casualty  casualty_severity  \\\n",
       "0               46                     8                  3   \n",
       "1               30                     6                  3   \n",
       "2               58                     9                  3   \n",
       "3               78                    11                  3   \n",
       "4               63                     9                  3   \n",
       "\n",
       "   pedestrian_location  pedestrian_movement  car_passenger  \\\n",
       "0                    0                    0              0   \n",
       "1                    0                    0              0   \n",
       "2                    0                    0              0   \n",
       "3                    0                    0              0   \n",
       "4                    0                    0              0   \n",
       "\n",
       "   bus_or_coach_passenger  pedestrian_road_maintenance_worker  casualty_type  \\\n",
       "0                       0                                   0              9   \n",
       "1                       0                                   0              9   \n",
       "2                       0                                   0              9   \n",
       "3                       0                                   0              9   \n",
       "4                       0                                   0              9   \n",
       "\n",
       "   casualty_home_area_type  casualty_imd_decile lsoa_of_casualty  \n",
       "0                        1                    9        E01033378  \n",
       "1                        1                    2        E01018551  \n",
       "2                        1                   10        E01006134  \n",
       "3                        2                   10        E01018724  \n",
       "4                        3                    7        W01000578  "
      ]
     },
     "execution_count": 3,
     "metadata": {},
     "output_type": "execute_result"
    }
   ],
   "source": [
    "casualty_df.head()"
   ]
  },
  {
   "cell_type": "markdown",
   "id": "d87eb5cc",
   "metadata": {
    "papermill": {
     "duration": 0.0185,
     "end_time": "2023-07-29T18:16:23.526316",
     "exception": false,
     "start_time": "2023-07-29T18:16:23.507816",
     "status": "completed"
    },
    "tags": []
   },
   "source": [
    "**Checking the shape of the dataset**"
   ]
  },
  {
   "cell_type": "code",
   "execution_count": 4,
   "id": "a12e6e6f",
   "metadata": {
    "execution": {
     "iopub.execute_input": "2023-07-29T18:16:23.566867Z",
     "iopub.status.busy": "2023-07-29T18:16:23.565712Z",
     "iopub.status.idle": "2023-07-29T18:16:23.571575Z",
     "shell.execute_reply": "2023-07-29T18:16:23.570778Z"
    },
    "papermill": {
     "duration": 0.028337,
     "end_time": "2023-07-29T18:16:23.573656",
     "exception": false,
     "start_time": "2023-07-29T18:16:23.545319",
     "status": "completed"
    },
    "tags": []
   },
   "outputs": [
    {
     "name": "stdout",
     "output_type": "stream",
     "text": [
      "The dataset has 61352 rows and 20 columns.\n"
     ]
    }
   ],
   "source": [
    "print(f\"The dataset has {casualty_df.shape[0]} rows and {casualty_df.shape[1]} columns.\")"
   ]
  },
  {
   "cell_type": "markdown",
   "id": "629da70d",
   "metadata": {
    "papermill": {
     "duration": 0.019619,
     "end_time": "2023-07-29T18:16:23.613537",
     "exception": false,
     "start_time": "2023-07-29T18:16:23.593918",
     "status": "completed"
    },
    "tags": []
   },
   "source": [
    "**Checking the data types of the columns**"
   ]
  },
  {
   "cell_type": "code",
   "execution_count": 5,
   "id": "f9f08fed",
   "metadata": {
    "execution": {
     "iopub.execute_input": "2023-07-29T18:16:23.654373Z",
     "iopub.status.busy": "2023-07-29T18:16:23.653584Z",
     "iopub.status.idle": "2023-07-29T18:16:23.663120Z",
     "shell.execute_reply": "2023-07-29T18:16:23.662052Z"
    },
    "papermill": {
     "duration": 0.032525,
     "end_time": "2023-07-29T18:16:23.665404",
     "exception": false,
     "start_time": "2023-07-29T18:16:23.632879",
     "status": "completed"
    },
    "tags": []
   },
   "outputs": [
    {
     "data": {
      "text/plain": [
       "status                                object\n",
       "accident_index                        object\n",
       "accident_year                          int64\n",
       "accident_reference                    object\n",
       "vehicle_reference                      int64\n",
       "casualty_reference                     int64\n",
       "casualty_class                         int64\n",
       "sex_of_casualty                        int64\n",
       "age_of_casualty                        int64\n",
       "age_band_of_casualty                   int64\n",
       "casualty_severity                      int64\n",
       "pedestrian_location                    int64\n",
       "pedestrian_movement                    int64\n",
       "car_passenger                          int64\n",
       "bus_or_coach_passenger                 int64\n",
       "pedestrian_road_maintenance_worker     int64\n",
       "casualty_type                          int64\n",
       "casualty_home_area_type                int64\n",
       "casualty_imd_decile                    int64\n",
       "lsoa_of_casualty                      object\n",
       "dtype: object"
      ]
     },
     "execution_count": 5,
     "metadata": {},
     "output_type": "execute_result"
    }
   ],
   "source": [
    "casualty_df.dtypes"
   ]
  },
  {
   "cell_type": "markdown",
   "id": "cec157bf",
   "metadata": {
    "papermill": {
     "duration": 0.019198,
     "end_time": "2023-07-29T18:16:23.704723",
     "exception": false,
     "start_time": "2023-07-29T18:16:23.685525",
     "status": "completed"
    },
    "tags": []
   },
   "source": [
    "**Checking for missing values**"
   ]
  },
  {
   "cell_type": "code",
   "execution_count": 6,
   "id": "b5c912d0",
   "metadata": {
    "execution": {
     "iopub.execute_input": "2023-07-29T18:16:23.745408Z",
     "iopub.status.busy": "2023-07-29T18:16:23.744986Z",
     "iopub.status.idle": "2023-07-29T18:16:23.836645Z",
     "shell.execute_reply": "2023-07-29T18:16:23.835491Z"
    },
    "papermill": {
     "duration": 0.114768,
     "end_time": "2023-07-29T18:16:23.838968",
     "exception": false,
     "start_time": "2023-07-29T18:16:23.724200",
     "status": "completed"
    },
    "tags": []
   },
   "outputs": [
    {
     "data": {
      "text/plain": [
       "status                                0\n",
       "accident_index                        0\n",
       "accident_year                         0\n",
       "accident_reference                    0\n",
       "vehicle_reference                     0\n",
       "casualty_reference                    0\n",
       "casualty_class                        0\n",
       "sex_of_casualty                       0\n",
       "age_of_casualty                       0\n",
       "age_band_of_casualty                  0\n",
       "casualty_severity                     0\n",
       "pedestrian_location                   0\n",
       "pedestrian_movement                   0\n",
       "car_passenger                         0\n",
       "bus_or_coach_passenger                0\n",
       "pedestrian_road_maintenance_worker    0\n",
       "casualty_type                         0\n",
       "casualty_home_area_type               0\n",
       "casualty_imd_decile                   0\n",
       "lsoa_of_casualty                      0\n",
       "dtype: int64"
      ]
     },
     "execution_count": 6,
     "metadata": {},
     "output_type": "execute_result"
    }
   ],
   "source": [
    "casualty_df.isnull().sum()"
   ]
  },
  {
   "cell_type": "markdown",
   "id": "bdd2d767",
   "metadata": {
    "papermill": {
     "duration": 0.019349,
     "end_time": "2023-07-29T18:16:23.878295",
     "exception": false,
     "start_time": "2023-07-29T18:16:23.858946",
     "status": "completed"
    },
    "tags": []
   },
   "source": [
    "**Summary statistics of the dataset**"
   ]
  },
  {
   "cell_type": "code",
   "execution_count": 7,
   "id": "b942287d",
   "metadata": {
    "execution": {
     "iopub.execute_input": "2023-07-29T18:16:23.919367Z",
     "iopub.status.busy": "2023-07-29T18:16:23.918959Z",
     "iopub.status.idle": "2023-07-29T18:16:24.154217Z",
     "shell.execute_reply": "2023-07-29T18:16:24.153243Z"
    },
    "papermill": {
     "duration": 0.258496,
     "end_time": "2023-07-29T18:16:24.156407",
     "exception": false,
     "start_time": "2023-07-29T18:16:23.897911",
     "status": "completed"
    },
    "tags": []
   },
   "outputs": [
    {
     "data": {
      "text/html": [
       "<div>\n",
       "<style scoped>\n",
       "    .dataframe tbody tr th:only-of-type {\n",
       "        vertical-align: middle;\n",
       "    }\n",
       "\n",
       "    .dataframe tbody tr th {\n",
       "        vertical-align: top;\n",
       "    }\n",
       "\n",
       "    .dataframe thead th {\n",
       "        text-align: right;\n",
       "    }\n",
       "</style>\n",
       "<table border=\"1\" class=\"dataframe\">\n",
       "  <thead>\n",
       "    <tr style=\"text-align: right;\">\n",
       "      <th></th>\n",
       "      <th>status</th>\n",
       "      <th>accident_index</th>\n",
       "      <th>accident_year</th>\n",
       "      <th>accident_reference</th>\n",
       "      <th>vehicle_reference</th>\n",
       "      <th>casualty_reference</th>\n",
       "      <th>casualty_class</th>\n",
       "      <th>sex_of_casualty</th>\n",
       "      <th>age_of_casualty</th>\n",
       "      <th>age_band_of_casualty</th>\n",
       "      <th>casualty_severity</th>\n",
       "      <th>pedestrian_location</th>\n",
       "      <th>pedestrian_movement</th>\n",
       "      <th>car_passenger</th>\n",
       "      <th>bus_or_coach_passenger</th>\n",
       "      <th>pedestrian_road_maintenance_worker</th>\n",
       "      <th>casualty_type</th>\n",
       "      <th>casualty_home_area_type</th>\n",
       "      <th>casualty_imd_decile</th>\n",
       "      <th>lsoa_of_casualty</th>\n",
       "    </tr>\n",
       "  </thead>\n",
       "  <tbody>\n",
       "    <tr>\n",
       "      <th>count</th>\n",
       "      <td>61352</td>\n",
       "      <td>61352</td>\n",
       "      <td>61352.0</td>\n",
       "      <td>61352</td>\n",
       "      <td>61352.000000</td>\n",
       "      <td>61352.000000</td>\n",
       "      <td>61352.000000</td>\n",
       "      <td>61352.000000</td>\n",
       "      <td>61352.000000</td>\n",
       "      <td>61352.000000</td>\n",
       "      <td>61352.000000</td>\n",
       "      <td>61352.000000</td>\n",
       "      <td>61352.000000</td>\n",
       "      <td>61352.000000</td>\n",
       "      <td>61352.000000</td>\n",
       "      <td>61352.000000</td>\n",
       "      <td>61352.000000</td>\n",
       "      <td>61352.000000</td>\n",
       "      <td>61352.000000</td>\n",
       "      <td>61352</td>\n",
       "    </tr>\n",
       "    <tr>\n",
       "      <th>unique</th>\n",
       "      <td>1</td>\n",
       "      <td>48283</td>\n",
       "      <td>NaN</td>\n",
       "      <td>48283</td>\n",
       "      <td>NaN</td>\n",
       "      <td>NaN</td>\n",
       "      <td>NaN</td>\n",
       "      <td>NaN</td>\n",
       "      <td>NaN</td>\n",
       "      <td>NaN</td>\n",
       "      <td>NaN</td>\n",
       "      <td>NaN</td>\n",
       "      <td>NaN</td>\n",
       "      <td>NaN</td>\n",
       "      <td>NaN</td>\n",
       "      <td>NaN</td>\n",
       "      <td>NaN</td>\n",
       "      <td>NaN</td>\n",
       "      <td>NaN</td>\n",
       "      <td>23841</td>\n",
       "    </tr>\n",
       "    <tr>\n",
       "      <th>top</th>\n",
       "      <td>Unvalidated</td>\n",
       "      <td>2022010356595</td>\n",
       "      <td>NaN</td>\n",
       "      <td>010356595</td>\n",
       "      <td>NaN</td>\n",
       "      <td>NaN</td>\n",
       "      <td>NaN</td>\n",
       "      <td>NaN</td>\n",
       "      <td>NaN</td>\n",
       "      <td>NaN</td>\n",
       "      <td>NaN</td>\n",
       "      <td>NaN</td>\n",
       "      <td>NaN</td>\n",
       "      <td>NaN</td>\n",
       "      <td>NaN</td>\n",
       "      <td>NaN</td>\n",
       "      <td>NaN</td>\n",
       "      <td>NaN</td>\n",
       "      <td>NaN</td>\n",
       "      <td>-1</td>\n",
       "    </tr>\n",
       "    <tr>\n",
       "      <th>freq</th>\n",
       "      <td>61352</td>\n",
       "      <td>16</td>\n",
       "      <td>NaN</td>\n",
       "      <td>16</td>\n",
       "      <td>NaN</td>\n",
       "      <td>NaN</td>\n",
       "      <td>NaN</td>\n",
       "      <td>NaN</td>\n",
       "      <td>NaN</td>\n",
       "      <td>NaN</td>\n",
       "      <td>NaN</td>\n",
       "      <td>NaN</td>\n",
       "      <td>NaN</td>\n",
       "      <td>NaN</td>\n",
       "      <td>NaN</td>\n",
       "      <td>NaN</td>\n",
       "      <td>NaN</td>\n",
       "      <td>NaN</td>\n",
       "      <td>NaN</td>\n",
       "      <td>8027</td>\n",
       "    </tr>\n",
       "    <tr>\n",
       "      <th>mean</th>\n",
       "      <td>NaN</td>\n",
       "      <td>NaN</td>\n",
       "      <td>2022.0</td>\n",
       "      <td>NaN</td>\n",
       "      <td>1.450368</td>\n",
       "      <td>1.333779</td>\n",
       "      <td>1.482299</td>\n",
       "      <td>1.368790</td>\n",
       "      <td>36.670312</td>\n",
       "      <td>6.288157</td>\n",
       "      <td>2.783039</td>\n",
       "      <td>0.800316</td>\n",
       "      <td>0.645325</td>\n",
       "      <td>0.222047</td>\n",
       "      <td>0.048507</td>\n",
       "      <td>0.032860</td>\n",
       "      <td>9.475160</td>\n",
       "      <td>1.091032</td>\n",
       "      <td>4.337674</td>\n",
       "      <td>NaN</td>\n",
       "    </tr>\n",
       "    <tr>\n",
       "      <th>std</th>\n",
       "      <td>NaN</td>\n",
       "      <td>NaN</td>\n",
       "      <td>0.0</td>\n",
       "      <td>NaN</td>\n",
       "      <td>1.109855</td>\n",
       "      <td>0.981507</td>\n",
       "      <td>0.735614</td>\n",
       "      <td>0.534536</td>\n",
       "      <td>19.574357</td>\n",
       "      <td>2.463082</td>\n",
       "      <td>0.442318</td>\n",
       "      <td>2.197167</td>\n",
       "      <td>2.009611</td>\n",
       "      <td>0.615127</td>\n",
       "      <td>0.426419</td>\n",
       "      <td>0.261327</td>\n",
       "      <td>16.662727</td>\n",
       "      <td>0.903365</td>\n",
       "      <td>3.158496</td>\n",
       "      <td>NaN</td>\n",
       "    </tr>\n",
       "    <tr>\n",
       "      <th>min</th>\n",
       "      <td>NaN</td>\n",
       "      <td>NaN</td>\n",
       "      <td>2022.0</td>\n",
       "      <td>NaN</td>\n",
       "      <td>1.000000</td>\n",
       "      <td>1.000000</td>\n",
       "      <td>1.000000</td>\n",
       "      <td>-1.000000</td>\n",
       "      <td>-1.000000</td>\n",
       "      <td>-1.000000</td>\n",
       "      <td>1.000000</td>\n",
       "      <td>0.000000</td>\n",
       "      <td>0.000000</td>\n",
       "      <td>-1.000000</td>\n",
       "      <td>-1.000000</td>\n",
       "      <td>-1.000000</td>\n",
       "      <td>-1.000000</td>\n",
       "      <td>-1.000000</td>\n",
       "      <td>-1.000000</td>\n",
       "      <td>NaN</td>\n",
       "    </tr>\n",
       "    <tr>\n",
       "      <th>25%</th>\n",
       "      <td>NaN</td>\n",
       "      <td>NaN</td>\n",
       "      <td>2022.0</td>\n",
       "      <td>NaN</td>\n",
       "      <td>1.000000</td>\n",
       "      <td>1.000000</td>\n",
       "      <td>1.000000</td>\n",
       "      <td>1.000000</td>\n",
       "      <td>22.000000</td>\n",
       "      <td>5.000000</td>\n",
       "      <td>3.000000</td>\n",
       "      <td>0.000000</td>\n",
       "      <td>0.000000</td>\n",
       "      <td>0.000000</td>\n",
       "      <td>0.000000</td>\n",
       "      <td>0.000000</td>\n",
       "      <td>1.000000</td>\n",
       "      <td>1.000000</td>\n",
       "      <td>2.000000</td>\n",
       "      <td>NaN</td>\n",
       "    </tr>\n",
       "    <tr>\n",
       "      <th>50%</th>\n",
       "      <td>NaN</td>\n",
       "      <td>NaN</td>\n",
       "      <td>2022.0</td>\n",
       "      <td>NaN</td>\n",
       "      <td>1.000000</td>\n",
       "      <td>1.000000</td>\n",
       "      <td>1.000000</td>\n",
       "      <td>1.000000</td>\n",
       "      <td>34.000000</td>\n",
       "      <td>6.000000</td>\n",
       "      <td>3.000000</td>\n",
       "      <td>0.000000</td>\n",
       "      <td>0.000000</td>\n",
       "      <td>0.000000</td>\n",
       "      <td>0.000000</td>\n",
       "      <td>0.000000</td>\n",
       "      <td>9.000000</td>\n",
       "      <td>1.000000</td>\n",
       "      <td>4.000000</td>\n",
       "      <td>NaN</td>\n",
       "    </tr>\n",
       "    <tr>\n",
       "      <th>75%</th>\n",
       "      <td>NaN</td>\n",
       "      <td>NaN</td>\n",
       "      <td>2022.0</td>\n",
       "      <td>NaN</td>\n",
       "      <td>2.000000</td>\n",
       "      <td>1.000000</td>\n",
       "      <td>2.000000</td>\n",
       "      <td>2.000000</td>\n",
       "      <td>50.000000</td>\n",
       "      <td>8.000000</td>\n",
       "      <td>3.000000</td>\n",
       "      <td>0.000000</td>\n",
       "      <td>0.000000</td>\n",
       "      <td>0.000000</td>\n",
       "      <td>0.000000</td>\n",
       "      <td>0.000000</td>\n",
       "      <td>9.000000</td>\n",
       "      <td>1.000000</td>\n",
       "      <td>7.000000</td>\n",
       "      <td>NaN</td>\n",
       "    </tr>\n",
       "    <tr>\n",
       "      <th>max</th>\n",
       "      <td>NaN</td>\n",
       "      <td>NaN</td>\n",
       "      <td>2022.0</td>\n",
       "      <td>NaN</td>\n",
       "      <td>227.000000</td>\n",
       "      <td>148.000000</td>\n",
       "      <td>3.000000</td>\n",
       "      <td>9.000000</td>\n",
       "      <td>101.000000</td>\n",
       "      <td>11.000000</td>\n",
       "      <td>3.000000</td>\n",
       "      <td>10.000000</td>\n",
       "      <td>9.000000</td>\n",
       "      <td>9.000000</td>\n",
       "      <td>9.000000</td>\n",
       "      <td>2.000000</td>\n",
       "      <td>98.000000</td>\n",
       "      <td>3.000000</td>\n",
       "      <td>10.000000</td>\n",
       "      <td>NaN</td>\n",
       "    </tr>\n",
       "  </tbody>\n",
       "</table>\n",
       "</div>"
      ],
      "text/plain": [
       "             status accident_index  accident_year accident_reference  \\\n",
       "count         61352          61352        61352.0              61352   \n",
       "unique            1          48283            NaN              48283   \n",
       "top     Unvalidated  2022010356595            NaN          010356595   \n",
       "freq          61352             16            NaN                 16   \n",
       "mean            NaN            NaN         2022.0                NaN   \n",
       "std             NaN            NaN            0.0                NaN   \n",
       "min             NaN            NaN         2022.0                NaN   \n",
       "25%             NaN            NaN         2022.0                NaN   \n",
       "50%             NaN            NaN         2022.0                NaN   \n",
       "75%             NaN            NaN         2022.0                NaN   \n",
       "max             NaN            NaN         2022.0                NaN   \n",
       "\n",
       "        vehicle_reference  casualty_reference  casualty_class  \\\n",
       "count        61352.000000        61352.000000    61352.000000   \n",
       "unique                NaN                 NaN             NaN   \n",
       "top                   NaN                 NaN             NaN   \n",
       "freq                  NaN                 NaN             NaN   \n",
       "mean             1.450368            1.333779        1.482299   \n",
       "std              1.109855            0.981507        0.735614   \n",
       "min              1.000000            1.000000        1.000000   \n",
       "25%              1.000000            1.000000        1.000000   \n",
       "50%              1.000000            1.000000        1.000000   \n",
       "75%              2.000000            1.000000        2.000000   \n",
       "max            227.000000          148.000000        3.000000   \n",
       "\n",
       "        sex_of_casualty  age_of_casualty  age_band_of_casualty  \\\n",
       "count      61352.000000     61352.000000          61352.000000   \n",
       "unique              NaN              NaN                   NaN   \n",
       "top                 NaN              NaN                   NaN   \n",
       "freq                NaN              NaN                   NaN   \n",
       "mean           1.368790        36.670312              6.288157   \n",
       "std            0.534536        19.574357              2.463082   \n",
       "min           -1.000000        -1.000000             -1.000000   \n",
       "25%            1.000000        22.000000              5.000000   \n",
       "50%            1.000000        34.000000              6.000000   \n",
       "75%            2.000000        50.000000              8.000000   \n",
       "max            9.000000       101.000000             11.000000   \n",
       "\n",
       "        casualty_severity  pedestrian_location  pedestrian_movement  \\\n",
       "count        61352.000000         61352.000000         61352.000000   \n",
       "unique                NaN                  NaN                  NaN   \n",
       "top                   NaN                  NaN                  NaN   \n",
       "freq                  NaN                  NaN                  NaN   \n",
       "mean             2.783039             0.800316             0.645325   \n",
       "std              0.442318             2.197167             2.009611   \n",
       "min              1.000000             0.000000             0.000000   \n",
       "25%              3.000000             0.000000             0.000000   \n",
       "50%              3.000000             0.000000             0.000000   \n",
       "75%              3.000000             0.000000             0.000000   \n",
       "max              3.000000            10.000000             9.000000   \n",
       "\n",
       "        car_passenger  bus_or_coach_passenger  \\\n",
       "count    61352.000000            61352.000000   \n",
       "unique            NaN                     NaN   \n",
       "top               NaN                     NaN   \n",
       "freq              NaN                     NaN   \n",
       "mean         0.222047                0.048507   \n",
       "std          0.615127                0.426419   \n",
       "min         -1.000000               -1.000000   \n",
       "25%          0.000000                0.000000   \n",
       "50%          0.000000                0.000000   \n",
       "75%          0.000000                0.000000   \n",
       "max          9.000000                9.000000   \n",
       "\n",
       "        pedestrian_road_maintenance_worker  casualty_type  \\\n",
       "count                         61352.000000   61352.000000   \n",
       "unique                                 NaN            NaN   \n",
       "top                                    NaN            NaN   \n",
       "freq                                   NaN            NaN   \n",
       "mean                              0.032860       9.475160   \n",
       "std                               0.261327      16.662727   \n",
       "min                              -1.000000      -1.000000   \n",
       "25%                               0.000000       1.000000   \n",
       "50%                               0.000000       9.000000   \n",
       "75%                               0.000000       9.000000   \n",
       "max                               2.000000      98.000000   \n",
       "\n",
       "        casualty_home_area_type  casualty_imd_decile lsoa_of_casualty  \n",
       "count              61352.000000         61352.000000            61352  \n",
       "unique                      NaN                  NaN            23841  \n",
       "top                         NaN                  NaN               -1  \n",
       "freq                        NaN                  NaN             8027  \n",
       "mean                   1.091032             4.337674              NaN  \n",
       "std                    0.903365             3.158496              NaN  \n",
       "min                   -1.000000            -1.000000              NaN  \n",
       "25%                    1.000000             2.000000              NaN  \n",
       "50%                    1.000000             4.000000              NaN  \n",
       "75%                    1.000000             7.000000              NaN  \n",
       "max                    3.000000            10.000000              NaN  "
      ]
     },
     "execution_count": 7,
     "metadata": {},
     "output_type": "execute_result"
    }
   ],
   "source": [
    "casualty_df.describe(include='all')"
   ]
  },
  {
   "cell_type": "markdown",
   "id": "9e0c62e5",
   "metadata": {
    "papermill": {
     "duration": 0.020028,
     "end_time": "2023-07-29T18:16:24.236944",
     "exception": false,
     "start_time": "2023-07-29T18:16:24.216916",
     "status": "completed"
    },
    "tags": []
   },
   "source": [
    "**Importing necessary libraries for EDA**"
   ]
  },
  {
   "cell_type": "code",
   "execution_count": 8,
   "id": "c1adabfd",
   "metadata": {
    "execution": {
     "iopub.execute_input": "2023-07-29T18:16:24.279770Z",
     "iopub.status.busy": "2023-07-29T18:16:24.279095Z",
     "iopub.status.idle": "2023-07-29T18:16:25.605277Z",
     "shell.execute_reply": "2023-07-29T18:16:25.604401Z"
    },
    "papermill": {
     "duration": 1.350551,
     "end_time": "2023-07-29T18:16:25.607863",
     "exception": false,
     "start_time": "2023-07-29T18:16:24.257312",
     "status": "completed"
    },
    "tags": []
   },
   "outputs": [],
   "source": [
    "import matplotlib.pyplot as plt\n",
    "import seaborn as sns"
   ]
  },
  {
   "cell_type": "markdown",
   "id": "36dec2e6",
   "metadata": {
    "papermill": {
     "duration": 0.020156,
     "end_time": "2023-07-29T18:16:25.649194",
     "exception": false,
     "start_time": "2023-07-29T18:16:25.629038",
     "status": "completed"
    },
    "tags": []
   },
   "source": [
    "**Univariate Analysis**"
   ]
  },
  {
   "cell_type": "code",
   "execution_count": 9,
   "id": "ba3d1b7c",
   "metadata": {
    "execution": {
     "iopub.execute_input": "2023-07-29T18:16:25.692323Z",
     "iopub.status.busy": "2023-07-29T18:16:25.691387Z",
     "iopub.status.idle": "2023-07-29T18:16:25.990025Z",
     "shell.execute_reply": "2023-07-29T18:16:25.988827Z"
    },
    "papermill": {
     "duration": 0.322762,
     "end_time": "2023-07-29T18:16:25.992532",
     "exception": false,
     "start_time": "2023-07-29T18:16:25.669770",
     "status": "completed"
    },
    "tags": []
   },
   "outputs": [
    {
     "data": {
      "image/png": "[encoded data removed]",
      "text/plain": [
       "<Figure size 640x480 with 1 Axes>"
      ]
     },
     "metadata": {},
     "output_type": "display_data"
    }
   ],
   "source": [
    "# Let's analyze the 'casualty_severity' column\n",
    "casualty_df['casualty_severity'].value_counts().plot(kind='bar')\n",
    "plt.title('Casualty Severity Counts')\n",
    "plt.xlabel('Casualty Severity')\n",
    "plt.ylabel('Count')\n",
    "plt.show()"
   ]
  },
  {
   "cell_type": "markdown",
   "id": "e3b783ee",
   "metadata": {
    "papermill": {
     "duration": 0.020527,
     "end_time": "2023-07-29T18:16:26.034063",
     "exception": false,
     "start_time": "2023-07-29T18:16:26.013536",
     "status": "completed"
    },
    "tags": []
   },
   "source": [
    "**Bivariate Analysis**"
   ]
  },
  {
   "cell_type": "code",
   "execution_count": 10,
   "id": "8e08afff",
   "metadata": {
    "execution": {
     "iopub.execute_input": "2023-07-29T18:16:26.077560Z",
     "iopub.status.busy": "2023-07-29T18:16:26.077164Z",
     "iopub.status.idle": "2023-07-29T18:16:26.377168Z",
     "shell.execute_reply": "2023-07-29T18:16:26.376094Z"
    },
    "papermill": {
     "duration": 0.32505,
     "end_time": "2023-07-29T18:16:26.379826",
     "exception": false,
     "start_time": "2023-07-29T18:16:26.054776",
     "status": "completed"
    },
    "tags": []
   },
   "outputs": [
    {
     "data": {
      "image/png": "[encoded data removed]",
      "text/plain": [
       "<Figure size 1000x600 with 1 Axes>"
      ]
     },
     "metadata": {},
     "output_type": "display_data"
    }
   ],
   "source": [
    "# Let's analyze the relationship between 'casualty_severity' and 'age_of_casualty'\n",
    "plt.figure(figsize=(10,6))\n",
    "sns.boxplot(x='casualty_severity', y='age_of_casualty', data=casualty_df)\n",
    "plt.title('Age of Casualty vs Casualty Severity')\n",
    "plt.xlabel('Casualty Severity')\n",
    "plt.ylabel('Age of Casualty')\n",
    "plt.show()"
   ]
  },
  {
   "cell_type": "markdown",
   "id": "b6020f77",
   "metadata": {
    "papermill": {
     "duration": 0.020931,
     "end_time": "2023-07-29T18:16:26.423111",
     "exception": false,
     "start_time": "2023-07-29T18:16:26.402180",
     "status": "completed"
    },
    "tags": []
   },
   "source": [
    "**Visualizing the data**"
   ]
  },
  {
   "cell_type": "code",
   "execution_count": 11,
   "id": "2f8544ce",
   "metadata": {
    "execution": {
     "iopub.execute_input": "2023-07-29T18:16:26.466841Z",
     "iopub.status.busy": "2023-07-29T18:16:26.466445Z",
     "iopub.status.idle": "2023-07-29T18:16:27.238615Z",
     "shell.execute_reply": "2023-07-29T18:16:27.237657Z"
    },
    "papermill": {
     "duration": 0.796874,
     "end_time": "2023-07-29T18:16:27.240926",
     "exception": false,
     "start_time": "2023-07-29T18:16:26.444052",
     "status": "completed"
    },
    "tags": []
   },
   "outputs": [
    {
     "data": {
      "image/png": "[encoded data removed]",
      "text/plain": [
       "<Figure size 640x480 with 1 Axes>"
      ]
     },
     "metadata": {},
     "output_type": "display_data"
    }
   ],
   "source": [
    "# Let's visualize the distribution of 'age_of_casualty'\n",
    "sns.histplot(casualty_df['age_of_casualty'], kde=True)\n",
    "plt.title('Age of Casualty Distribution')\n",
    "plt.xlabel('Age of Casualty')\n",
    "plt.ylabel('Frequency')\n",
    "plt.show()"
   ]
  },
  {
   "cell_type": "markdown",
   "id": "8e5ebf2e",
   "metadata": {
    "papermill": {
     "duration": 0.021454,
     "end_time": "2023-07-29T18:16:27.283811",
     "exception": false,
     "start_time": "2023-07-29T18:16:27.262357",
     "status": "completed"
    },
    "tags": []
   },
   "source": [
    "# Feature Engineering"
   ]
  },
  {
   "cell_type": "code",
   "execution_count": 12,
   "id": "5e70c4db",
   "metadata": {
    "execution": {
     "iopub.execute_input": "2023-07-29T18:16:27.329373Z",
     "iopub.status.busy": "2023-07-29T18:16:27.328981Z",
     "iopub.status.idle": "2023-07-29T18:16:27.478927Z",
     "shell.execute_reply": "2023-07-29T18:16:27.477944Z"
    },
    "papermill": {
     "duration": 0.175898,
     "end_time": "2023-07-29T18:16:27.481646",
     "exception": false,
     "start_time": "2023-07-29T18:16:27.305748",
     "status": "completed"
    },
    "tags": []
   },
   "outputs": [],
   "source": [
    "# Import necessary libraries\n",
    "from sklearn.preprocessing import LabelEncoder\n",
    "from sklearn.preprocessing import StandardScaler"
   ]
  },
  {
   "cell_type": "markdown",
   "id": "34337b59",
   "metadata": {
    "papermill": {
     "duration": 0.021717,
     "end_time": "2023-07-29T18:16:27.525586",
     "exception": false,
     "start_time": "2023-07-29T18:16:27.503869",
     "status": "completed"
    },
    "tags": []
   },
   "source": [
    "**Feature Selection**"
   ]
  },
  {
   "cell_type": "code",
   "execution_count": 13,
   "id": "94f87243",
   "metadata": {
    "execution": {
     "iopub.execute_input": "2023-07-29T18:16:27.571060Z",
     "iopub.status.busy": "2023-07-29T18:16:27.570616Z",
     "iopub.status.idle": "2023-07-29T18:16:27.582249Z",
     "shell.execute_reply": "2023-07-29T18:16:27.581158Z"
    },
    "papermill": {
     "duration": 0.036932,
     "end_time": "2023-07-29T18:16:27.584341",
     "exception": false,
     "start_time": "2023-07-29T18:16:27.547409",
     "status": "completed"
    },
    "tags": []
   },
   "outputs": [],
   "source": [
    "# Selecting relevant features for the model. This can be changed according to the problem at hand.\n",
    "features = ['accident_year', 'vehicle_reference', 'casualty_reference', 'casualty_class', 'sex_of_casualty', 'age_of_casualty', 'age_band_of_casualty', 'casualty_severity', 'pedestrian_location', 'pedestrian_movement', 'car_passenger', 'bus_or_coach_passenger', 'pedestrian_road_maintenance_worker', 'casualty_type', 'casualty_home_area_type', 'casualty_imd_decile']\n",
    "casualty_df = casualty_df[features]"
   ]
  },
  {
   "cell_type": "markdown",
   "id": "8748127b",
   "metadata": {
    "papermill": {
     "duration": 0.021371,
     "end_time": "2023-07-29T18:16:27.627793",
     "exception": false,
     "start_time": "2023-07-29T18:16:27.606422",
     "status": "completed"
    },
    "tags": []
   },
   "source": [
    "**Feature Transformation**"
   ]
  },
  {
   "cell_type": "code",
   "execution_count": 14,
   "id": "052f6928",
   "metadata": {
    "execution": {
     "iopub.execute_input": "2023-07-29T18:16:27.673056Z",
     "iopub.status.busy": "2023-07-29T18:16:27.672335Z",
     "iopub.status.idle": "2023-07-29T18:16:27.686196Z",
     "shell.execute_reply": "2023-07-29T18:16:27.685179Z"
    },
    "papermill": {
     "duration": 0.039465,
     "end_time": "2023-07-29T18:16:27.688795",
     "exception": false,
     "start_time": "2023-07-29T18:16:27.649330",
     "status": "completed"
    },
    "tags": []
   },
   "outputs": [],
   "source": [
    "casualty_df = casualty_df[features].copy()"
   ]
  },
  {
   "cell_type": "code",
   "execution_count": 15,
   "id": "9fced780",
   "metadata": {
    "execution": {
     "iopub.execute_input": "2023-07-29T18:16:27.736186Z",
     "iopub.status.busy": "2023-07-29T18:16:27.735354Z",
     "iopub.status.idle": "2023-07-29T18:16:27.800021Z",
     "shell.execute_reply": "2023-07-29T18:16:27.798896Z"
    },
    "papermill": {
     "duration": 0.091288,
     "end_time": "2023-07-29T18:16:27.802485",
     "exception": false,
     "start_time": "2023-07-29T18:16:27.711197",
     "status": "completed"
    },
    "tags": []
   },
   "outputs": [
    {
     "data": {
      "text/html": [
       "<div>\n",
       "<style scoped>\n",
       "    .dataframe tbody tr th:only-of-type {\n",
       "        vertical-align: middle;\n",
       "    }\n",
       "\n",
       "    .dataframe tbody tr th {\n",
       "        vertical-align: top;\n",
       "    }\n",
       "\n",
       "    .dataframe thead th {\n",
       "        text-align: right;\n",
       "    }\n",
       "</style>\n",
       "<table border=\"1\" class=\"dataframe\">\n",
       "  <thead>\n",
       "    <tr style=\"text-align: right;\">\n",
       "      <th></th>\n",
       "      <th>accident_year</th>\n",
       "      <th>vehicle_reference</th>\n",
       "      <th>casualty_reference</th>\n",
       "      <th>casualty_class</th>\n",
       "      <th>sex_of_casualty</th>\n",
       "      <th>age_of_casualty</th>\n",
       "      <th>age_band_of_casualty</th>\n",
       "      <th>casualty_severity</th>\n",
       "      <th>pedestrian_location</th>\n",
       "      <th>pedestrian_movement</th>\n",
       "      <th>car_passenger</th>\n",
       "      <th>bus_or_coach_passenger</th>\n",
       "      <th>pedestrian_road_maintenance_worker</th>\n",
       "      <th>casualty_type</th>\n",
       "      <th>casualty_home_area_type</th>\n",
       "      <th>casualty_imd_decile</th>\n",
       "    </tr>\n",
       "  </thead>\n",
       "  <tbody>\n",
       "    <tr>\n",
       "      <th>0</th>\n",
       "      <td>0.0</td>\n",
       "      <td>0.495232</td>\n",
       "      <td>-0.340070</td>\n",
       "      <td>0</td>\n",
       "      <td>2</td>\n",
       "      <td>0.476632</td>\n",
       "      <td>0.695006</td>\n",
       "      <td>3</td>\n",
       "      <td>-0.364252</td>\n",
       "      <td>-0.321122</td>\n",
       "      <td>1</td>\n",
       "      <td>1</td>\n",
       "      <td>1</td>\n",
       "      <td>8</td>\n",
       "      <td>1</td>\n",
       "      <td>1.476134</td>\n",
       "    </tr>\n",
       "    <tr>\n",
       "      <th>1</th>\n",
       "      <td>0.0</td>\n",
       "      <td>-0.405793</td>\n",
       "      <td>-0.340070</td>\n",
       "      <td>0</td>\n",
       "      <td>1</td>\n",
       "      <td>-0.340771</td>\n",
       "      <td>-0.116991</td>\n",
       "      <td>3</td>\n",
       "      <td>-0.364252</td>\n",
       "      <td>-0.321122</td>\n",
       "      <td>1</td>\n",
       "      <td>1</td>\n",
       "      <td>1</td>\n",
       "      <td>8</td>\n",
       "      <td>1</td>\n",
       "      <td>-0.740129</td>\n",
       "    </tr>\n",
       "    <tr>\n",
       "      <th>2</th>\n",
       "      <td>0.0</td>\n",
       "      <td>-0.405793</td>\n",
       "      <td>-0.340070</td>\n",
       "      <td>0</td>\n",
       "      <td>2</td>\n",
       "      <td>1.089684</td>\n",
       "      <td>1.101005</td>\n",
       "      <td>3</td>\n",
       "      <td>-0.364252</td>\n",
       "      <td>-0.321122</td>\n",
       "      <td>1</td>\n",
       "      <td>1</td>\n",
       "      <td>1</td>\n",
       "      <td>8</td>\n",
       "      <td>1</td>\n",
       "      <td>1.792743</td>\n",
       "    </tr>\n",
       "    <tr>\n",
       "      <th>3</th>\n",
       "      <td>0.0</td>\n",
       "      <td>0.495232</td>\n",
       "      <td>1.697629</td>\n",
       "      <td>0</td>\n",
       "      <td>2</td>\n",
       "      <td>2.111437</td>\n",
       "      <td>1.913002</td>\n",
       "      <td>3</td>\n",
       "      <td>-0.364252</td>\n",
       "      <td>-0.321122</td>\n",
       "      <td>1</td>\n",
       "      <td>1</td>\n",
       "      <td>1</td>\n",
       "      <td>8</td>\n",
       "      <td>2</td>\n",
       "      <td>1.792743</td>\n",
       "    </tr>\n",
       "    <tr>\n",
       "      <th>4</th>\n",
       "      <td>0.0</td>\n",
       "      <td>1.396258</td>\n",
       "      <td>0.678779</td>\n",
       "      <td>0</td>\n",
       "      <td>1</td>\n",
       "      <td>1.345122</td>\n",
       "      <td>1.101005</td>\n",
       "      <td>3</td>\n",
       "      <td>-0.364252</td>\n",
       "      <td>-0.321122</td>\n",
       "      <td>1</td>\n",
       "      <td>1</td>\n",
       "      <td>1</td>\n",
       "      <td>8</td>\n",
       "      <td>3</td>\n",
       "      <td>0.842916</td>\n",
       "    </tr>\n",
       "  </tbody>\n",
       "</table>\n",
       "</div>"
      ],
      "text/plain": [
       "   accident_year  vehicle_reference  casualty_reference  casualty_class  \\\n",
       "0            0.0           0.495232           -0.340070               0   \n",
       "1            0.0          -0.405793           -0.340070               0   \n",
       "2            0.0          -0.405793           -0.340070               0   \n",
       "3            0.0           0.495232            1.697629               0   \n",
       "4            0.0           1.396258            0.678779               0   \n",
       "\n",
       "   sex_of_casualty  age_of_casualty  age_band_of_casualty  casualty_severity  \\\n",
       "0                2         0.476632              0.695006                  3   \n",
       "1                1        -0.340771             -0.116991                  3   \n",
       "2                2         1.089684              1.101005                  3   \n",
       "3                2         2.111437              1.913002                  3   \n",
       "4                1         1.345122              1.101005                  3   \n",
       "\n",
       "   pedestrian_location  pedestrian_movement  car_passenger  \\\n",
       "0            -0.364252            -0.321122              1   \n",
       "1            -0.364252            -0.321122              1   \n",
       "2            -0.364252            -0.321122              1   \n",
       "3            -0.364252            -0.321122              1   \n",
       "4            -0.364252            -0.321122              1   \n",
       "\n",
       "   bus_or_coach_passenger  pedestrian_road_maintenance_worker  casualty_type  \\\n",
       "0                       1                                   1              8   \n",
       "1                       1                                   1              8   \n",
       "2                       1                                   1              8   \n",
       "3                       1                                   1              8   \n",
       "4                       1                                   1              8   \n",
       "\n",
       "   casualty_home_area_type  casualty_imd_decile  \n",
       "0                        1             1.476134  \n",
       "1                        1            -0.740129  \n",
       "2                        1             1.792743  \n",
       "3                        2             1.792743  \n",
       "4                        3             0.842916  "
      ]
     },
     "execution_count": 15,
     "metadata": {},
     "output_type": "execute_result"
    }
   ],
   "source": [
    "# Label Encoding for categorical variables\n",
    "le = LabelEncoder()\n",
    "categorical_features = ['casualty_class', 'sex_of_casualty', 'car_passenger', 'bus_or_coach_passenger', 'pedestrian_road_maintenance_worker', 'casualty_type', 'casualty_home_area_type']\n",
    "for feature in categorical_features:\n",
    "    casualty_df[feature] = le.fit_transform(casualty_df[feature])\n",
    "\n",
    "# Standard Scaling for numerical variables\n",
    "scaler = StandardScaler()\n",
    "numerical_features = ['accident_year', 'vehicle_reference', 'casualty_reference', 'age_of_casualty', 'age_band_of_casualty', 'pedestrian_location', 'pedestrian_movement', 'casualty_imd_decile']\n",
    "for feature in numerical_features:\n",
    "    casualty_df[feature] = scaler.fit_transform(casualty_df[feature].values.reshape(-1, 1))\n",
    "\n",
    "casualty_df.head()"
   ]
  },
  {
   "cell_type": "code",
   "execution_count": 16,
   "id": "220d759c",
   "metadata": {
    "execution": {
     "iopub.execute_input": "2023-07-29T18:16:27.893736Z",
     "iopub.status.busy": "2023-07-29T18:16:27.892744Z",
     "iopub.status.idle": "2023-07-29T18:16:28.068396Z",
     "shell.execute_reply": "2023-07-29T18:16:28.067403Z"
    },
    "papermill": {
     "duration": 0.201576,
     "end_time": "2023-07-29T18:16:28.071075",
     "exception": false,
     "start_time": "2023-07-29T18:16:27.869499",
     "status": "completed"
    },
    "tags": []
   },
   "outputs": [],
   "source": [
    "# Import necessary libraries\n",
    "from sklearn.model_selection import train_test_split\n",
    "from sklearn.linear_model import LogisticRegression\n",
    "from sklearn.preprocessing import StandardScaler"
   ]
  },
  {
   "cell_type": "markdown",
   "id": "36f7f133",
   "metadata": {
    "papermill": {
     "duration": 0.021885,
     "end_time": "2023-07-29T18:16:28.115073",
     "exception": false,
     "start_time": "2023-07-29T18:16:28.093188",
     "status": "completed"
    },
    "tags": []
   },
   "source": [
    "**Define features and target variable**"
   ]
  },
  {
   "cell_type": "code",
   "execution_count": 17,
   "id": "dc3a0329",
   "metadata": {
    "execution": {
     "iopub.execute_input": "2023-07-29T18:16:28.160359Z",
     "iopub.status.busy": "2023-07-29T18:16:28.159962Z",
     "iopub.status.idle": "2023-07-29T18:16:28.171855Z",
     "shell.execute_reply": "2023-07-29T18:16:28.170954Z"
    },
    "papermill": {
     "duration": 0.037321,
     "end_time": "2023-07-29T18:16:28.174272",
     "exception": false,
     "start_time": "2023-07-29T18:16:28.136951",
     "status": "completed"
    },
    "tags": []
   },
   "outputs": [],
   "source": [
    "X = casualty_df.drop('casualty_severity', axis=1)\n",
    "y = casualty_df['casualty_severity']"
   ]
  },
  {
   "cell_type": "markdown",
   "id": "6030957a",
   "metadata": {
    "papermill": {
     "duration": 0.021774,
     "end_time": "2023-07-29T18:16:28.217930",
     "exception": false,
     "start_time": "2023-07-29T18:16:28.196156",
     "status": "completed"
    },
    "tags": []
   },
   "source": [
    "**Scale the features**"
   ]
  },
  {
   "cell_type": "code",
   "execution_count": 18,
   "id": "b69449c0",
   "metadata": {
    "execution": {
     "iopub.execute_input": "2023-07-29T18:16:28.264642Z",
     "iopub.status.busy": "2023-07-29T18:16:28.263532Z",
     "iopub.status.idle": "2023-07-29T18:16:28.295381Z",
     "shell.execute_reply": "2023-07-29T18:16:28.294512Z"
    },
    "papermill": {
     "duration": 0.057866,
     "end_time": "2023-07-29T18:16:28.297809",
     "exception": false,
     "start_time": "2023-07-29T18:16:28.239943",
     "status": "completed"
    },
    "tags": []
   },
   "outputs": [],
   "source": [
    "scaler = StandardScaler()\n",
    "X = scaler.fit_transform(X)"
   ]
  },
  {
   "cell_type": "markdown",
   "id": "3eb2e9cc",
   "metadata": {
    "papermill": {
     "duration": 0.021606,
     "end_time": "2023-07-29T18:16:28.341707",
     "exception": false,
     "start_time": "2023-07-29T18:16:28.320101",
     "status": "completed"
    },
    "tags": []
   },
   "source": [
    "**Split the data into training and testing sets**"
   ]
  },
  {
   "cell_type": "code",
   "execution_count": 19,
   "id": "6f4b2238",
   "metadata": {
    "execution": {
     "iopub.execute_input": "2023-07-29T18:16:28.387740Z",
     "iopub.status.busy": "2023-07-29T18:16:28.387080Z",
     "iopub.status.idle": "2023-07-29T18:16:28.405110Z",
     "shell.execute_reply": "2023-07-29T18:16:28.403925Z"
    },
    "papermill": {
     "duration": 0.043907,
     "end_time": "2023-07-29T18:16:28.407703",
     "exception": false,
     "start_time": "2023-07-29T18:16:28.363796",
     "status": "completed"
    },
    "tags": []
   },
   "outputs": [],
   "source": [
    "X_train, X_test, y_train, y_test = train_test_split(X, y, test_size=0.2, random_state=42)"
   ]
  },
  {
   "cell_type": "markdown",
   "id": "f2cadefb",
   "metadata": {
    "papermill": {
     "duration": 0.022009,
     "end_time": "2023-07-29T18:16:28.451778",
     "exception": false,
     "start_time": "2023-07-29T18:16:28.429769",
     "status": "completed"
    },
    "tags": []
   },
   "source": [
    "**Choose a model**"
   ]
  },
  {
   "cell_type": "code",
   "execution_count": 20,
   "id": "f5ab097d",
   "metadata": {
    "execution": {
     "iopub.execute_input": "2023-07-29T18:16:28.500185Z",
     "iopub.status.busy": "2023-07-29T18:16:28.499789Z",
     "iopub.status.idle": "2023-07-29T18:16:28.504014Z",
     "shell.execute_reply": "2023-07-29T18:16:28.503198Z"
    },
    "papermill": {
     "duration": 0.031186,
     "end_time": "2023-07-29T18:16:28.506203",
     "exception": false,
     "start_time": "2023-07-29T18:16:28.475017",
     "status": "completed"
    },
    "tags": []
   },
   "outputs": [],
   "source": [
    "model = LogisticRegression(max_iter=1000)"
   ]
  },
  {
   "cell_type": "markdown",
   "id": "76cf36ad",
   "metadata": {
    "papermill": {
     "duration": 0.021994,
     "end_time": "2023-07-29T18:16:28.550432",
     "exception": false,
     "start_time": "2023-07-29T18:16:28.528438",
     "status": "completed"
    },
    "tags": []
   },
   "source": [
    "**Train the model**"
   ]
  },
  {
   "cell_type": "code",
   "execution_count": 21,
   "id": "fbf4a909",
   "metadata": {
    "execution": {
     "iopub.execute_input": "2023-07-29T18:16:28.596693Z",
     "iopub.status.busy": "2023-07-29T18:16:28.595994Z",
     "iopub.status.idle": "2023-07-29T18:16:29.802674Z",
     "shell.execute_reply": "2023-07-29T18:16:29.801266Z"
    },
    "papermill": {
     "duration": 1.233738,
     "end_time": "2023-07-29T18:16:29.806329",
     "exception": false,
     "start_time": "2023-07-29T18:16:28.572591",
     "status": "completed"
    },
    "tags": []
   },
   "outputs": [
    {
     "data": {
      "text/html": [
       "<style>#sk-container-id-1 {color: black;background-color: white;}#sk-container-id-1 pre{padding: 0;}#sk-container-id-1 div.sk-toggleable {background-color: white;}#sk-container-id-1 label.sk-toggleable__label {cursor: pointer;display: block;width: 100%;margin-bottom: 0;padding: 0.3em;box-sizing: border-box;text-align: center;}#sk-container-id-1 label.sk-toggleable__label-arrow:before {content: \"▸\";float: left;margin-right: 0.25em;color: #696969;}#sk-container-id-1 label.sk-toggleable__label-arrow:hover:before {color: black;}#sk-container-id-1 div.sk-estimator:hover label.sk-toggleable__label-arrow:before {color: black;}#sk-container-id-1 div.sk-toggleable__content {max-height: 0;max-width: 0;overflow: hidden;text-align: left;background-color: #f0f8ff;}#sk-container-id-1 div.sk-toggleable__content pre {margin: 0.2em;color: black;border-radius: 0.25em;background-color: #f0f8ff;}#sk-container-id-1 input.sk-toggleable__control:checked~div.sk-toggleable__content {max-height: 200px;max-width: 100%;overflow: auto;}#sk-container-id-1 input.sk-toggleable__control:checked~label.sk-toggleable__label-arrow:before {content: \"▾\";}#sk-container-id-1 div.sk-estimator input.sk-toggleable__control:checked~label.sk-toggleable__label {background-color: #d4ebff;}#sk-container-id-1 div.sk-label input.sk-toggleable__control:checked~label.sk-toggleable__label {background-color: #d4ebff;}#sk-container-id-1 input.sk-hidden--visually {border: 0;clip: rect(1px 1px 1px 1px);clip: rect(1px, 1px, 1px, 1px);height: 1px;margin: -1px;overflow: hidden;padding: 0;position: absolute;width: 1px;}#sk-container-id-1 div.sk-estimator {font-family: monospace;background-color: #f0f8ff;border: 1px dotted black;border-radius: 0.25em;box-sizing: border-box;margin-bottom: 0.5em;}#sk-container-id-1 div.sk-estimator:hover {background-color: #d4ebff;}#sk-container-id-1 div.sk-parallel-item::after {content: \"\";width: 100%;border-bottom: 1px solid gray;flex-grow: 1;}#sk-container-id-1 div.sk-label:hover label.sk-toggleable__label {background-color: #d4ebff;}#sk-container-id-1 div.sk-serial::before {content: \"\";position: absolute;border-left: 1px solid gray;box-sizing: border-box;top: 0;bottom: 0;left: 50%;z-index: 0;}#sk-container-id-1 div.sk-serial {display: flex;flex-direction: column;align-items: center;background-color: white;padding-right: 0.2em;padding-left: 0.2em;position: relative;}#sk-container-id-1 div.sk-item {position: relative;z-index: 1;}#sk-container-id-1 div.sk-parallel {display: flex;align-items: stretch;justify-content: center;background-color: white;position: relative;}#sk-container-id-1 div.sk-item::before, #sk-container-id-1 div.sk-parallel-item::before {content: \"\";position: absolute;border-left: 1px solid gray;box-sizing: border-box;top: 0;bottom: 0;left: 50%;z-index: -1;}#sk-container-id-1 div.sk-parallel-item {display: flex;flex-direction: column;z-index: 1;position: relative;background-color: white;}#sk-container-id-1 div.sk-parallel-item:first-child::after {align-self: flex-end;width: 50%;}#sk-container-id-1 div.sk-parallel-item:last-child::after {align-self: flex-start;width: 50%;}#sk-container-id-1 div.sk-parallel-item:only-child::after {width: 0;}#sk-container-id-1 div.sk-dashed-wrapped {border: 1px dashed gray;margin: 0 0.4em 0.5em 0.4em;box-sizing: border-box;padding-bottom: 0.4em;background-color: white;}#sk-container-id-1 div.sk-label label {font-family: monospace;font-weight: bold;display: inline-block;line-height: 1.2em;}#sk-container-id-1 div.sk-label-container {text-align: center;}#sk-container-id-1 div.sk-container {/* jupyter's `normalize.less` sets `[hidden] { display: none; }` but bootstrap.min.css set `[hidden] { display: none !important; }` so we also need the `!important` here to be able to override the default hidden behavior on the sphinx rendered scikit-learn.org. See: https://github.com/scikit-learn/scikit-learn/issues/21755 */display: inline-block !important;position: relative;}#sk-container-id-1 div.sk-text-repr-fallback {display: none;}</style><div id=\"sk-container-id-1\" class=\"sk-top-container\"><div class=\"sk-text-repr-fallback\"><pre>LogisticRegression(max_iter=1000)</pre><b>In a Jupyter environment, please rerun this cell to show the HTML representation or trust the notebook. <br />On GitHub, the HTML representation is unable to render, please try loading this page with nbviewer.org.</b></div><div class=\"sk-container\" hidden><div class=\"sk-item\"><div class=\"sk-estimator sk-toggleable\"><input class=\"sk-toggleable__control sk-hidden--visually\" id=\"sk-estimator-id-1\" type=\"checkbox\" checked><label for=\"sk-estimator-id-1\" class=\"sk-toggleable__label sk-toggleable__label-arrow\">LogisticRegression</label><div class=\"sk-toggleable__content\"><pre>LogisticRegression(max_iter=1000)</pre></div></div></div></div></div>"
      ],
      "text/plain": [
       "LogisticRegression(max_iter=1000)"
      ]
     },
     "execution_count": 21,
     "metadata": {},
     "output_type": "execute_result"
    }
   ],
   "source": [
    "model.fit(X_train, y_train)"
   ]
  },
  {
   "cell_type": "markdown",
   "id": "b6fcede6",
   "metadata": {
    "papermill": {
     "duration": 0.022373,
     "end_time": "2023-07-29T18:16:29.947571",
     "exception": false,
     "start_time": "2023-07-29T18:16:29.925198",
     "status": "completed"
    },
    "tags": []
   },
   "source": [
    "**Import necessary libraries**"
   ]
  },
  {
   "cell_type": "code",
   "execution_count": 22,
   "id": "e397f8ac",
   "metadata": {
    "execution": {
     "iopub.execute_input": "2023-07-29T18:16:29.994080Z",
     "iopub.status.busy": "2023-07-29T18:16:29.993644Z",
     "iopub.status.idle": "2023-07-29T18:16:29.998868Z",
     "shell.execute_reply": "2023-07-29T18:16:29.997768Z"
    },
    "papermill": {
     "duration": 0.030911,
     "end_time": "2023-07-29T18:16:30.001028",
     "exception": false,
     "start_time": "2023-07-29T18:16:29.970117",
     "status": "completed"
    },
    "tags": []
   },
   "outputs": [],
   "source": [
    "from sklearn.metrics import accuracy_score, precision_score, recall_score, f1_score\n",
    "from sklearn.model_selection import cross_val_score"
   ]
  },
  {
   "cell_type": "markdown",
   "id": "d67a601d",
   "metadata": {
    "papermill": {
     "duration": 0.022257,
     "end_time": "2023-07-29T18:16:30.046169",
     "exception": false,
     "start_time": "2023-07-29T18:16:30.023912",
     "status": "completed"
    },
    "tags": []
   },
   "source": [
    "**Make predictions on the test set**"
   ]
  },
  {
   "cell_type": "code",
   "execution_count": 23,
   "id": "f6ad317c",
   "metadata": {
    "execution": {
     "iopub.execute_input": "2023-07-29T18:16:30.092723Z",
     "iopub.status.busy": "2023-07-29T18:16:30.092327Z",
     "iopub.status.idle": "2023-07-29T18:16:30.100560Z",
     "shell.execute_reply": "2023-07-29T18:16:30.099126Z"
    },
    "papermill": {
     "duration": 0.03565,
     "end_time": "2023-07-29T18:16:30.104215",
     "exception": false,
     "start_time": "2023-07-29T18:16:30.068565",
     "status": "completed"
    },
    "tags": []
   },
   "outputs": [],
   "source": [
    "y_pred = model.predict(X_test)"
   ]
  },
  {
   "cell_type": "markdown",
   "id": "fb96ef69",
   "metadata": {
    "papermill": {
     "duration": 0.046451,
     "end_time": "2023-07-29T18:16:30.197306",
     "exception": false,
     "start_time": "2023-07-29T18:16:30.150855",
     "status": "completed"
    },
    "tags": []
   },
   "source": [
    "**Evaluate the model**"
   ]
  },
  {
   "cell_type": "code",
   "execution_count": 24,
   "id": "c4107d31",
   "metadata": {
    "execution": {
     "iopub.execute_input": "2023-07-29T18:16:30.254389Z",
     "iopub.status.busy": "2023-07-29T18:16:30.253966Z",
     "iopub.status.idle": "2023-07-29T18:16:30.282322Z",
     "shell.execute_reply": "2023-07-29T18:16:30.281165Z"
    },
    "papermill": {
     "duration": 0.054196,
     "end_time": "2023-07-29T18:16:30.284708",
     "exception": false,
     "start_time": "2023-07-29T18:16:30.230512",
     "status": "completed"
    },
    "tags": []
   },
   "outputs": [
    {
     "name": "stdout",
     "output_type": "stream",
     "text": [
      "Accuracy: 0.7978974818678184\n",
      "Precision: 0.6367573058231196\n",
      "Recall: 0.7978974818678184\n",
      "F1 Score: 0.7082777755824203\n"
     ]
    },
    {
     "name": "stderr",
     "output_type": "stream",
     "text": [
      "C:\\Users\\akrof\\anaconda3\\lib\\site-packages\\sklearn\\metrics\\_classification.py:1344: UndefinedMetricWarning: Precision is ill-defined and being set to 0.0 in labels with no predicted samples. Use `zero_division` parameter to control this behavior.\n",
      "  _warn_prf(average, modifier, msg_start, len(result))\n"
     ]
    }
   ],
   "source": [
    "# Accuracy\n",
    "accuracy = accuracy_score(y_test, y_pred)\n",
    "print(f'Accuracy: {accuracy}')\n",
    "\n",
    "# Precision\n",
    "precision = precision_score(y_test, y_pred, average='weighted')\n",
    "print(f'Precision: {precision}')\n",
    "\n",
    "# Recall\n",
    "recall = recall_score(y_test, y_pred, average='weighted')\n",
    "print(f'Recall: {recall}')\n",
    "\n",
    "# F1 Score\n",
    "f1 = f1_score(y_test, y_pred, average='weighted')\n",
    "print(f'F1 Score: {f1}')"
   ]
  },
  {
   "cell_type": "markdown",
   "id": "26418e60",
   "metadata": {
    "papermill": {
     "duration": 0.022822,
     "end_time": "2023-07-29T18:16:30.331378",
     "exception": false,
     "start_time": "2023-07-29T18:16:30.308556",
     "status": "completed"
    },
    "tags": []
   },
   "source": [
    "**Perform cross-validation**"
   ]
  },
  {
   "cell_type": "code",
   "execution_count": 25,
   "id": "8a1d9673",
   "metadata": {
    "execution": {
     "iopub.execute_input": "2023-07-29T18:16:30.379310Z",
     "iopub.status.busy": "2023-07-29T18:16:30.378855Z",
     "iopub.status.idle": "2023-07-29T18:16:44.889418Z",
     "shell.execute_reply": "2023-07-29T18:16:44.888016Z"
    },
    "papermill": {
     "duration": 14.539419,
     "end_time": "2023-07-29T18:16:44.893776",
     "exception": false,
     "start_time": "2023-07-29T18:16:30.354357",
     "status": "completed"
    },
    "tags": []
   },
   "outputs": [
    {
     "name": "stdout",
     "output_type": "stream",
     "text": [
      "Cross Validation Scores: [0.79612125 0.79563233 0.79608802 0.79592502 0.79592502 0.79576202\n",
      " 0.79592502 0.79592502 0.79592502 0.79592502]\n",
      "Average CV Score: 0.7959153748396838\n"
     ]
    }
   ],
   "source": [
    "# 10-fold Cross Validation\n",
    "cv_scores = cross_val_score(model, X, y, cv=10)\n",
    "\n",
    "print(f'Cross Validation Scores: {cv_scores}')\n",
    "print(f'Average CV Score: {cv_scores.mean()}')"
   ]
  },
  {
   "cell_type": "markdown",
   "id": "dbe28ba9",
   "metadata": {
    "papermill": {
     "duration": 0.048622,
     "end_time": "2023-07-29T18:16:44.991423",
     "exception": false,
     "start_time": "2023-07-29T18:16:44.942801",
     "status": "completed"
    },
    "tags": []
   },
   "source": [
    "# Model Optimization"
   ]
  },
  {
   "cell_type": "code",
   "execution_count": 26,
   "id": "93dd760e",
   "metadata": {
    "execution": {
     "iopub.execute_input": "2023-07-29T18:16:45.045720Z",
     "iopub.status.busy": "2023-07-29T18:16:45.045283Z",
     "iopub.status.idle": "2023-07-29T18:16:45.328274Z",
     "shell.execute_reply": "2023-07-29T18:16:45.327312Z"
    },
    "papermill": {
     "duration": 0.310198,
     "end_time": "2023-07-29T18:16:45.330957",
     "exception": false,
     "start_time": "2023-07-29T18:16:45.020759",
     "status": "completed"
    },
    "tags": []
   },
   "outputs": [],
   "source": [
    "from sklearn.ensemble import RandomForestClassifier\n",
    "from sklearn.model_selection import GridSearchCV\n",
    "from tqdm import tqdm\n",
    "from sklearn.model_selection import ParameterGrid\n",
    "from joblib import Parallel, delayed"
   ]
  },
  {
   "cell_type": "code",
   "execution_count": 27,
   "id": "c79ac766",
   "metadata": {
    "execution": {
     "iopub.execute_input": "2023-07-29T18:16:45.379541Z",
     "iopub.status.busy": "2023-07-29T18:16:45.379126Z",
     "iopub.status.idle": "2023-07-29T18:17:03.945535Z",
     "shell.execute_reply": "2023-07-29T18:17:03.943819Z"
    },
    "papermill": {
     "duration": 18.593971,
     "end_time": "2023-07-29T18:17:03.948335",
     "exception": false,
     "start_time": "2023-07-29T18:16:45.354364",
     "status": "completed"
    },
    "tags": []
   },
   "outputs": [
    {
     "name": "stderr",
     "output_type": "stream",
     "text": [
      "  0%|                                                                                           | 0/16 [00:00<?, ?it/s][Parallel(n_jobs=-1)]: Using backend LokyBackend with 8 concurrent workers.\n",
      "100%|██████████████████████████████████████████████████████████████████████████████████| 16/16 [00:20<00:00,  1.30s/it]\n"
     ]
    },
    {
     "name": "stdout",
     "output_type": "stream",
     "text": [
      "Best parameters: {'max_depth': 2, 'min_samples_leaf': 1, 'min_samples_split': 2, 'n_estimators': 100}\n",
      "Best score: 0.7979789748186782\n"
     ]
    },
    {
     "name": "stderr",
     "output_type": "stream",
     "text": [
      "[Parallel(n_jobs=-1)]: Done  16 out of  16 | elapsed:   35.0s finished\n"
     ]
    }
   ],
   "source": [
    "# Define the parameter grid\n",
    "param_grid = {\n",
    "    'n_estimators': [100, 200],\n",
    "    'max_depth': [2, 4],\n",
    "    'min_samples_split': [2, 5],\n",
    "    'min_samples_leaf': [1, 2]\n",
    "}\n",
    "\n",
    "# Create a base model\n",
    "rf = RandomForestClassifier()\n",
    "\n",
    "# Define a function to fit the model with a specific set of hyperparameters\n",
    "def fit_model(params):\n",
    "    model = RandomForestClassifier(**params)\n",
    "    model.fit(X_train, y_train)\n",
    "    score = model.score(X_test, y_test)\n",
    "    return score, params\n",
    "\n",
    "# Create a list of all possible combinations of hyperparameters\n",
    "param_list = list(ParameterGrid(param_grid))\n",
    "\n",
    "# Fit the model with all combinations of hyperparameters and track progress with tqdm\n",
    "results = Parallel(n_jobs=-1, verbose=1)(\n",
    "    delayed(fit_model)(params) for params in tqdm(param_list)\n",
    ")\n",
    "\n",
    "# Find the best hyperparameters based on the test score\n",
    "best_score, best_params = max(results, key=lambda x: x[0])\n",
    "\n",
    "print(f\"Best parameters: {best_params}\")\n",
    "print(f\"Best score: {best_score}\")"
   ]
  },
  {
   "cell_type": "markdown",
   "id": "6e72a5ee",
   "metadata": {
    "papermill": {
     "duration": 0.025451,
     "end_time": "2023-07-29T18:17:04.009113",
     "exception": false,
     "start_time": "2023-07-29T18:17:03.983662",
     "status": "completed"
    },
    "tags": []
   },
   "source": [
    "# Model Deployment"
   ]
  },
  {
   "cell_type": "code",
   "execution_count": null,
   "id": "a4165dbc",
   "metadata": {
    "execution": {
     "iopub.execute_input": "2023-07-29T18:17:04.061121Z",
     "iopub.status.busy": "2023-07-29T18:17:04.060438Z",
     "iopub.status.idle": "2023-07-29T18:17:04.070497Z",
     "shell.execute_reply": "2023-07-29T18:17:04.069205Z"
    },
    "papermill": {
     "duration": 0.039135,
     "end_time": "2023-07-29T18:17:04.072695",
     "exception": false,
     "start_time": "2023-07-29T18:17:04.033560",
     "status": "completed"
    },
    "tags": []
   },
   "outputs": [],
   "source": []
  },
  {
   "cell_type": "code",
   "execution_count": 28,
   "id": "2ae56105",
   "metadata": {
    "execution": {
     "iopub.execute_input": "2023-07-29T18:17:04.123182Z",
     "iopub.status.busy": "2023-07-29T18:17:04.122478Z",
     "iopub.status.idle": "2023-07-29T18:17:04.129463Z",
     "shell.execute_reply": "2023-07-29T18:17:04.128597Z"
    },
    "papermill": {
     "duration": 0.034535,
     "end_time": "2023-07-29T18:17:04.131856",
     "exception": false,
     "start_time": "2023-07-29T18:17:04.097321",
     "status": "completed"
    },
    "tags": []
   },
   "outputs": [],
   "source": [
    "# Load the model from the file\n",
    "best_estimator_from_joblib = model"
   ]
  },
  {
   "cell_type": "code",
   "execution_count": 29,
   "id": "83e121b3",
   "metadata": {
    "execution": {
     "iopub.execute_input": "2023-07-29T18:17:04.183096Z",
     "iopub.status.busy": "2023-07-29T18:17:04.182342Z",
     "iopub.status.idle": "2023-07-29T18:17:04.201596Z",
     "shell.execute_reply": "2023-07-29T18:17:04.200309Z"
    },
    "papermill": {
     "duration": 0.047562,
     "end_time": "2023-07-29T18:17:04.203980",
     "exception": false,
     "start_time": "2023-07-29T18:17:04.156418",
     "status": "completed"
    },
    "tags": []
   },
   "outputs": [
    {
     "name": "stdout",
     "output_type": "stream",
     "text": [
      "                               Feature  Coefficient\n",
      "1                    vehicle_reference    -0.511467\n",
      "5                      age_of_casualty     0.273750\n",
      "4                      sex_of_casualty    -0.221540\n",
      "10              bus_or_coach_passenger    -0.186550\n",
      "14                 casualty_imd_decile    -0.139803\n",
      "7                  pedestrian_location     0.135039\n",
      "12                       casualty_type     0.129526\n",
      "13             casualty_home_area_type     0.088348\n",
      "9                        car_passenger     0.068530\n",
      "6                 age_band_of_casualty     0.047542\n",
      "2                   casualty_reference     0.030066\n",
      "3                       casualty_class    -0.005737\n",
      "11  pedestrian_road_maintenance_worker     0.002690\n",
      "8                  pedestrian_movement     0.001194\n",
      "0                        accident_year     0.000000\n"
     ]
    }
   ],
   "source": [
    "# Define the features used in the model\n",
    "features_used_in_model = casualty_df.drop('casualty_severity', axis=1).columns.tolist()\n",
    "\n",
    "# Get coefficients from the model\n",
    "coefficients = best_estimator_from_joblib.coef_[0]\n",
    "\n",
    "# Now use 'features_used_in_model' in your DataFrame creation\n",
    "coefficients_df = pd.DataFrame({\n",
    "    'Feature': features_used_in_model,\n",
    "    'Coefficient': coefficients\n",
    "})\n",
    "\n",
    "# Sort the DataFrame by absolute value of coefficients\n",
    "coefficients_df = coefficients_df.reindex(coefficients_df.Coefficient.abs().sort_values(ascending=False).index)\n",
    "\n",
    "print(coefficients_df)\n"
   ]
  }
 ],
 "metadata": {
  "kernelspec": {
   "display_name": "Python 3 (ipykernel)",
   "language": "python",
   "name": "python3"
  },
  "language_info": {
   "codemirror_mode": {
    "name": "ipython",
    "version": 3
   },
   "file_extension": ".py",
   "mimetype": "text/x-python",
   "name": "python",
   "nbconvert_exporter": "python",
   "pygments_lexer": "ipython3",
   "version": "3.10.9"
  },
  "papermill": {
   "default_parameters": {},
   "duration": 55.500866,
   "end_time": "2023-07-29T18:17:07.669875",
   "environment_variables": {},
   "exception": null,
   "input_path": "__notebook__.ipynb",
   "output_path": "__notebook__.ipynb",
   "parameters": {},
   "start_time": "2023-07-29T18:16:12.169009",
   "version": "2.4.0"
  }
 },
 "nbformat": 4,
 "nbformat_minor": 5
}
